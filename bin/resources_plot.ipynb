{
 "cells": [
  {
   "cell_type": "code",
   "execution_count": 179,
   "id": "0940d9b3",
   "metadata": {},
   "outputs": [],
   "source": [
    "import pandas as pd\n",
    "import numpy as np\n",
    "import pandas as pd\n",
    "import re\n",
    "import os\n",
    "\n",
    "def convert_time(time_str):\n",
    "    # Regular expression to match the time components\n",
    "    pattern = re.compile(r'((?P<hours>\\d+(\\.\\d+)?)h)?\\s*((?P<minutes>\\d+(\\.\\d+)?)m)?\\s*((?P<seconds>\\d+(\\.\\d+)?)s)?\\s*((?P<milliseconds>\\d+(\\.\\d+)?)ms)?')\n",
    "    match = pattern.fullmatch(time_str.strip())\n",
    "\n",
    "    if not match:\n",
    "        print(time_str)\n",
    "        raise ValueError(\"Time string is not in the correct format\")\n",
    "\n",
    "    time_components = match.groupdict(default='0')\n",
    "\n",
    "    hours = float(time_components['hours'])\n",
    "    minutes = float(time_components['minutes'])\n",
    "    seconds = float(time_components['seconds'])\n",
    "    milliseconds = float(time_components['milliseconds'])\n",
    "\n",
    "    # Convert everything to minutes\n",
    "    total_minutes = (hours * 60) + minutes + (seconds / 60) + (milliseconds / 60000)\n",
    "\n",
    "    return total_minutes\n",
    "\n",
    "def convert_memory(memory):\n",
    "    # from anything to GB\n",
    "    if memory is not None:\n",
    "        if \"GB\" in memory:\n",
    "            memory = memory.replace('GB', '')\n",
    "        elif \"MB\" in memory:\n",
    "            memory = memory.replace('MB', '')\n",
    "            memory = float(memory)/1000\n",
    "        elif \"KB\" in memory:\n",
    "            memory = memory.replace('KB', '')\n",
    "            memory = float(memory)/1000000\n",
    "    return memory\n",
    "\n",
    "def cleanTrace(trace):\n",
    "    # Update trace file\n",
    "    def extract_element(row, nelement):\n",
    "        elements = row.split(':')\n",
    "        return elements[nelement]\n",
    "\n",
    "    \n",
    "    trace[\"tag\"] = trace.name.str.split('(', expand = True)[1].str.split(')', expand = True)[0]\n",
    "    trace[\"full_name\"] = trace.name.str.split('(', expand = True)[0].str.strip()\n",
    "    trace[\"main_process\"] = trace.full_name.apply(extract_element, nelement=-1)\n",
    "    trace[\"subworkflow\"] = trace.full_name.apply(extract_element, nelement=-2)\n",
    "    trace[\"id\"]  = trace.tag.str.split(expand = True)[0]\n",
    "    if trace[\"tag\"].str.contains(\"args:\").any():\n",
    "        trace[\"args\"] = trace.tag.str.split(\"args:\", expand=True)[1]\n",
    "    trace.replace('null', pd.NA, inplace=True)\n",
    "    return trace\n",
    "\n",
    "\n",
    "def prep_align_trace(trace):\n",
    "    trace_align = trace[trace[\"subworkflow\"] == \"ALIGN\"]\n",
    "    # rename args to args_align\n",
    "    if \"args\" in trace_align.columns:\n",
    "        trace_align.rename(columns={\"args\": \"args_aligner\"}, inplace=True)\n",
    "    # rename process to align and remove _ALIGN\n",
    "    trace_align[\"aligner\"] = trace_align[\"main_process\"].str.replace(\"_ALIGN\", \"\")\n",
    "    trace_align.replace('null', pd.NA, inplace=True)\n",
    "    # remove ms from time_align and convert it to min\n",
    "    trace_align[\"time\"] = trace_align[\"time\"].apply(convert_time)\n",
    "    # convert memory to GB\n",
    "    trace_align[\"memory\"] = trace_align[\"memory\"].apply(convert_memory)\n",
    "    return trace_align\n",
    "\n",
    "\n",
    "def merge_data_and_trace(data_file,trace_file,out_file_name):\n",
    "    data = pd.read_csv(data_file)\n",
    "    # check if trace file has more than 1 row\n",
    "    if len(pd.read_csv(trace_file, sep='\\t')) > 1:\n",
    "        trace = pd.read_csv(trace_file, sep='\\t')\n",
    "        clean_trace = cleanTrace(trace)\n",
    "        trace_align = prep_align_trace(clean_trace)\n",
    "        print(trace_align.columns)\n",
    "        data_tree_align = pd.merge(data, trace_align, on=[\"id\"], how=\"left\")\n",
    "        data_tree_align.to_csv(out_file_name, index=False)\n",
    "    else:\n",
    "        # write to file\n",
    "        data.to_csv(out_file_name, index=False)\n"
   ]
  },
  {
   "cell_type": "code",
   "execution_count": 180,
   "id": "8bae89d9",
   "metadata": {},
   "outputs": [
    {
     "name": "stdout",
     "output_type": "stream",
     "text": [
      "Index(['task_id', 'hash', 'native_id', 'process', 'tag', 'name', 'status',\n",
      "       'exit', 'module', 'container', 'cpus', 'time', 'disk', 'memory',\n",
      "       'attempt', 'realtime', '%cpu', '%mem', 'rss', 'peak_rss', 'vmem',\n",
      "       'peak_vmem', 'rchar', 'wchar', 'cpus.1', 'start', 'cpu_model',\n",
      "       'full_name', 'main_process', 'subworkflow', 'id', 'args_aligner',\n",
      "       'aligner'],\n",
      "      dtype='object')\n"
     ]
    }
   ],
   "source": [
    "summary_report = \"./shiny_data_with_trace.csv\"\n",
    "\n",
    "summary_report_no_trace = \"../res/shiny_app/shiny_data.csv\"\n",
    "trace = \"/home/luisasantus/Desktop/crg_cluster/projects/timemsa/multiplesequencealign/res/pipeline_info/execution_trace_2024-10-03_11-01-49.txt\"\n",
    "# filter trace and keep only :align and :compute_trees rows\n",
    "trace_df = pd.read_csv(trace, sep='\\t')\n",
    "trace_df = trace_df[trace_df.name.str.contains(\":ALIGN\") | trace_df.name.str.contains(\":COMPUTE_TREES\")]\n",
    "trace_df.to_csv(\"trace_filtered.txt\", sep='\\t', index=False)\n",
    "\n",
    "trace_df\n",
    "\n",
    "merge_data_and_trace(summary_report_no_trace, \"trace_filtered.txt\", summary_report)\n"
   ]
  },
  {
   "cell_type": "code",
   "execution_count": 199,
   "id": "9929077a",
   "metadata": {},
   "outputs": [],
   "source": [
    "import seaborn as sns\n",
    "import matplotlib.pyplot as plt\n",
    "\n",
    "df = pd.read_csv(summary_report, sep=',')\n",
    "\n",
    "# FILTERING FOR TESTING - TO BE REMOVED \n",
    "# keep the ones that have aligner FAMSA\n",
    "df = df[df.aligner == \"FAMSA\"]\n",
    "\n",
    "metric = \"memory\"\n",
    "used = \"rss\"\n",
    "df[\"used\"] = df[used].apply(convert_memory)\n",
    "#df[perc_used] = df[perc_used].str.replace('%', '').astype(float)\n",
    "\n",
    "# calculate the real used\n",
    "df[\"requested\"] = df[metric] \n",
    "#df[\"used\"] = df[\"requested\"] * df[perc_used] / 100\n",
    "\n",
    "# get the max value of the metric\n",
    "max_value = df[metric].max()\n",
    "df[\"max\"] = max_value\n"
   ]
  },
  {
   "cell_type": "code",
   "execution_count": 200,
   "id": "9192b4c3",
   "metadata": {},
   "outputs": [],
   "source": [
    "df_plot = df.melt(id_vars=[\"n_sequences\"], value_vars=[\"requested\", \"used\", \"max\"], var_name=\"type\", value_name=metric+\"plot\")\n"
   ]
  },
  {
   "cell_type": "code",
   "execution_count": 201,
   "id": "c69d5cc7",
   "metadata": {},
   "outputs": [
    {
     "data": {
      "text/html": [
       "<div>\n",
       "<style scoped>\n",
       "    .dataframe tbody tr th:only-of-type {\n",
       "        vertical-align: middle;\n",
       "    }\n",
       "\n",
       "    .dataframe tbody tr th {\n",
       "        vertical-align: top;\n",
       "    }\n",
       "\n",
       "    .dataframe thead th {\n",
       "        text-align: right;\n",
       "    }\n",
       "</style>\n",
       "<table border=\"1\" class=\"dataframe\">\n",
       "  <thead>\n",
       "    <tr style=\"text-align: right;\">\n",
       "      <th></th>\n",
       "      <th>n_sequences</th>\n",
       "      <th>type</th>\n",
       "      <th>memoryplot</th>\n",
       "    </tr>\n",
       "  </thead>\n",
       "  <tbody>\n",
       "    <tr>\n",
       "      <th>0</th>\n",
       "      <td>20</td>\n",
       "      <td>requested</td>\n",
       "      <td>16.0000</td>\n",
       "    </tr>\n",
       "    <tr>\n",
       "      <th>1</th>\n",
       "      <td>5</td>\n",
       "      <td>requested</td>\n",
       "      <td>8.0000</td>\n",
       "    </tr>\n",
       "    <tr>\n",
       "      <th>2</th>\n",
       "      <td>20</td>\n",
       "      <td>used</td>\n",
       "      <td>0.0028</td>\n",
       "    </tr>\n",
       "    <tr>\n",
       "      <th>3</th>\n",
       "      <td>5</td>\n",
       "      <td>used</td>\n",
       "      <td>0.0031</td>\n",
       "    </tr>\n",
       "    <tr>\n",
       "      <th>4</th>\n",
       "      <td>20</td>\n",
       "      <td>max</td>\n",
       "      <td>16.0000</td>\n",
       "    </tr>\n",
       "    <tr>\n",
       "      <th>5</th>\n",
       "      <td>5</td>\n",
       "      <td>max</td>\n",
       "      <td>16.0000</td>\n",
       "    </tr>\n",
       "  </tbody>\n",
       "</table>\n",
       "</div>"
      ],
      "text/plain": [
       "   n_sequences       type  memoryplot\n",
       "0           20  requested     16.0000\n",
       "1            5  requested      8.0000\n",
       "2           20       used      0.0028\n",
       "3            5       used      0.0031\n",
       "4           20        max     16.0000\n",
       "5            5        max     16.0000"
      ]
     },
     "execution_count": 201,
     "metadata": {},
     "output_type": "execute_result"
    }
   ],
   "source": [
    "df_plot"
   ]
  },
  {
   "cell_type": "code",
   "execution_count": 202,
   "id": "429ac48e",
   "metadata": {},
   "outputs": [
    {
     "name": "stderr",
     "output_type": "stream",
     "text": [
      "/home/luisasantus/mambaforge/lib/python3.10/site-packages/seaborn/_oldcore.py:1498: FutureWarning: is_categorical_dtype is deprecated and will be removed in a future version. Use isinstance(dtype, CategoricalDtype) instead\n",
      "  if pd.api.types.is_categorical_dtype(vector):\n",
      "/home/luisasantus/mambaforge/lib/python3.10/site-packages/seaborn/_oldcore.py:1498: FutureWarning: is_categorical_dtype is deprecated and will be removed in a future version. Use isinstance(dtype, CategoricalDtype) instead\n",
      "  if pd.api.types.is_categorical_dtype(vector):\n",
      "/home/luisasantus/mambaforge/lib/python3.10/site-packages/seaborn/_oldcore.py:1498: FutureWarning: is_categorical_dtype is deprecated and will be removed in a future version. Use isinstance(dtype, CategoricalDtype) instead\n",
      "  if pd.api.types.is_categorical_dtype(vector):\n",
      "/home/luisasantus/mambaforge/lib/python3.10/site-packages/seaborn/_oldcore.py:1119: FutureWarning: use_inf_as_na option is deprecated and will be removed in a future version. Convert inf values to NaN before operating instead.\n",
      "  with pd.option_context('mode.use_inf_as_na', True):\n",
      "/home/luisasantus/mambaforge/lib/python3.10/site-packages/seaborn/_oldcore.py:1119: FutureWarning: use_inf_as_na option is deprecated and will be removed in a future version. Convert inf values to NaN before operating instead.\n",
      "  with pd.option_context('mode.use_inf_as_na', True):\n",
      "/home/luisasantus/mambaforge/lib/python3.10/site-packages/seaborn/_oldcore.py:1057: FutureWarning: The default of observed=False is deprecated and will be changed to True in a future version of pandas. Pass observed=False to retain current behavior or observed=True to adopt the future default and silence this warning.\n",
      "  grouped_data = data.groupby(\n"
     ]
    },
    {
     "data": {
      "text/plain": [
       "<matplotlib.legend.Legend at 0x7f60fc3bd060>"
      ]
     },
     "execution_count": 202,
     "metadata": {},
     "output_type": "execute_result"
    },
    {
     "data": {
      "image/png": "[encoded data removed]",
      "text/plain": [
       "<Figure size 1000x500 with 1 Axes>"
      ]
     },
     "metadata": {},
     "output_type": "display_data"
    }
   ],
   "source": [
    "# i want to plot the memory used, requested and max  (as hue) vs the number of sequences\n",
    "# transform the data to long format\n",
    "x_axis = \"n_sequences\"\n",
    "y_axis = \"memoryplot\"\n",
    "df_plot = df_plot.sort_values(by=x_axis)\n",
    "df_plot = df_plot[df_plot[y_axis].notnull()]\n",
    "\n",
    "plt.figure(figsize=(10,5))\n",
    "# Specify the order of types\n",
    "\n",
    "types_order = ['max', 'requested', 'used']\n",
    "\n",
    "for type in types_order:\n",
    "    df_subset = df_plot[df_plot['type'] == type]\n",
    "    plt.fill_between(df_subset[x_axis], df_subset[y_axis], alpha=0.5, label=type)\n",
    "df_plot['type'] = pd.Categorical(df_plot['type'], categories=['max', 'requested', 'used'], ordered=True)\n",
    "\n",
    "sns.lineplot(data=df_plot, x=x_axis, y=y_axis, hue=\"type\")\n",
    "# rename the x axis\n",
    "plt.xlabel(\"number of sequences\")\n",
    "# put the legened outside the plot\n",
    "plt.legend(loc='center left', bbox_to_anchor=(1, 0.5))"
   ]
  },
  {
   "cell_type": "code",
   "execution_count": null,
   "id": "c0d63792",
   "metadata": {},
   "outputs": [],
   "source": []
  }
 ],
 "metadata": {
  "kernelspec": {
   "display_name": "Python 3 (ipykernel)",
   "language": "python",
   "name": "python3"
  },
  "language_info": {
   "codemirror_mode": {
    "name": "ipython",
    "version": 3
   },
   "file_extension": ".py",
   "mimetype": "text/x-python",
   "name": "python",
   "nbconvert_exporter": "python",
   "pygments_lexer": "ipython3",
   "version": "3.10.12"
  }
 },
 "nbformat": 4,
 "nbformat_minor": 5
}
